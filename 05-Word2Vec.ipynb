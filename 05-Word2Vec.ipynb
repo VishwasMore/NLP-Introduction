{
 "cells": [
  {
   "cell_type": "code",
   "execution_count": 3,
   "metadata": {},
   "outputs": [],
   "source": [
    "import nltk\n",
    "\n",
    "from gensim.models import Word2Vec\n",
    "from nltk.corpus import stopwords\n",
    "\n",
    "import re"
   ]
  },
  {
   "cell_type": "code",
   "execution_count": 4,
   "metadata": {},
   "outputs": [],
   "source": [
    "paragraph = \"\"\"I have three visions for India. In 3000 years of our history, people from all over \n",
    "               the world have come and invaded us, captured our lands, conquered our minds. \n",
    "               From Alexander onwards, the Greeks, the Turks, the Moguls, the Portuguese, the British,\n",
    "               the French, the Dutch, all of them came and looted us, took over what was ours. \n",
    "               Yet we have not done this to any other nation. We have not conquered anyone. \n",
    "               We have not grabbed their land, their culture, \n",
    "               their history and tried to enforce our way of life on them. \n",
    "               Why? Because we respect the freedom of others.That is why my \n",
    "               first vision is that of freedom. I believe that India got its first vision of \n",
    "               this in 1857, when we started the War of Independence. It is this freedom that\n",
    "               we must protect and nurture and build on. If we are not free, no one will respect us.\n",
    "               My second vision for India’s development. For fifty years we have been a developing nation.\n",
    "               It is time we see ourselves as a developed nation. We are among the top 5 nations of the world\n",
    "               in terms of GDP. We have a 10 percent growth rate in most areas. Our poverty levels are falling.\n",
    "               Our achievements are being globally recognised today. Yet we lack the self-confidence to\n",
    "               see ourselves as a developed nation, self-reliant and self-assured. Isn’t this incorrect?\n",
    "               I have a third vision. India must stand up to the world. Because I believe that unless India \n",
    "               stands up to the world, no one will respect us. Only strength respects strength. We must be \n",
    "               strong not only as a military power but also as an economic power. Both must go hand-in-hand. \n",
    "               My good fortune was to have worked with three great minds. Dr. Vikram Sarabhai of the Dept. of \n",
    "               space, Professor Satish Dhawan, who succeeded him and Dr. Brahm Prakash, father of nuclear material.\n",
    "               I was lucky to have worked with all three of them closely and consider this the great opportunity of my life. \n",
    "               I see four milestones in my career\"\"\""
   ]
  },
  {
   "cell_type": "code",
   "execution_count": 5,
   "metadata": {},
   "outputs": [],
   "source": [
    "# Preprocessing the data\n",
    "text = re.sub(r'\\[[0-9]*\\]',' ',paragraph)\n",
    "text = re.sub(r'\\s+',' ',text)\n",
    "text = text.lower()\n",
    "text = re.sub(r'\\d',' ',text)\n",
    "text = re.sub(r'\\s+',' ',text)"
   ]
  },
  {
   "cell_type": "code",
   "execution_count": 6,
   "metadata": {},
   "outputs": [],
   "source": [
    "# Preparing the dataset\n",
    "sentences = nltk.sent_tokenize(text)\n",
    "\n",
    "sentences = [nltk.word_tokenize(sentence) for sentence in sentences]\n",
    "\n",
    "for i in range(len(sentences)):\n",
    "    sentences[i] = [word for word in sentences[i] if word not in stopwords.words('english')]"
   ]
  },
  {
   "cell_type": "code",
   "execution_count": 7,
   "metadata": {},
   "outputs": [],
   "source": [
    "# Training the Word2Vec model\n",
    "model = Word2Vec(sentences, min_count=1)"
   ]
  },
  {
   "cell_type": "code",
   "execution_count": 9,
   "metadata": {},
   "outputs": [],
   "source": [
    "words = model.wv.vocab\n",
    "# words"
   ]
  },
  {
   "cell_type": "code",
   "execution_count": 10,
   "metadata": {},
   "outputs": [],
   "source": [
    "# Finding Word Vectors\n",
    "vector = model.wv['freedom']"
   ]
  },
  {
   "cell_type": "code",
   "execution_count": 11,
   "metadata": {},
   "outputs": [
    {
     "data": {
      "text/plain": [
       "array([-0.0007518 ,  0.00167374, -0.0037777 ,  0.00310096,  0.00341777,\n",
       "        0.00498156, -0.00345787, -0.00038467,  0.00214875, -0.00210947,\n",
       "       -0.00081565,  0.00180466, -0.0012174 ,  0.00017603,  0.00299758,\n",
       "        0.00062487, -0.00224501,  0.00052678, -0.00186486,  0.00480977,\n",
       "        0.00230054, -0.0038048 ,  0.0004075 , -0.00392897,  0.00217022,\n",
       "       -0.00201194,  0.00381397, -0.00478054,  0.00170634, -0.00448121,\n",
       "       -0.00163088,  0.00046053, -0.00402838,  0.00080073, -0.00196769,\n",
       "       -0.00377995, -0.00433956, -0.00439313,  0.00278984, -0.00341475,\n",
       "       -0.0047534 , -0.00237624, -0.00058808,  0.00059928,  0.00059603,\n",
       "        0.00085346, -0.00432671, -0.00482162,  0.00080395, -0.00043114,\n",
       "       -0.00352986, -0.00468506, -0.00101297, -0.00071501,  0.00300685,\n",
       "        0.00114357, -0.00184528, -0.00232107, -0.00326627, -0.00173789,\n",
       "        0.00140612, -0.00245029,  0.00091379, -0.00280528, -0.00135983,\n",
       "        0.00173654, -0.00327237,  0.00145025, -0.00395318,  0.00051115,\n",
       "       -0.00367965, -0.00363893,  0.00289721, -0.00190006,  0.00311184,\n",
       "       -0.00319376,  0.00152771,  0.00011641, -0.00418644,  0.001623  ,\n",
       "        0.00446772, -0.00222737, -0.00408423, -0.00460884, -0.00219781,\n",
       "        0.00128471, -0.0029503 , -0.00373236, -0.0005579 ,  0.00261707,\n",
       "       -0.00485343, -0.00351209, -0.00042297,  0.0016321 ,  0.00373652,\n",
       "        0.00410904,  0.0028526 , -0.00079756,  0.00341334,  0.00082562],\n",
       "      dtype=float32)"
      ]
     },
     "execution_count": 11,
     "metadata": {},
     "output_type": "execute_result"
    }
   ],
   "source": [
    "vector"
   ]
  },
  {
   "cell_type": "code",
   "execution_count": 13,
   "metadata": {},
   "outputs": [],
   "source": [
    "# Most similar words\n",
    "similar = model.wv.most_similar('freedom')"
   ]
  },
  {
   "cell_type": "code",
   "execution_count": 14,
   "metadata": {},
   "outputs": [
    {
     "data": {
      "text/plain": [
       "[('self-reliant', 0.24303749203681946),\n",
       " ('dhawan', 0.21755114197731018),\n",
       " ('years', 0.1824960559606552),\n",
       " ('culture', 0.1729784607887268),\n",
       " ('people', 0.16992144286632538),\n",
       " ('self-confidence', 0.15921980142593384),\n",
       " ('nurture', 0.1587313711643219),\n",
       " ('strong', 0.14863204956054688),\n",
       " ('british', 0.133080393075943),\n",
       " ('come', 0.1243983656167984)]"
      ]
     },
     "execution_count": 14,
     "metadata": {},
     "output_type": "execute_result"
    }
   ],
   "source": [
    "similar"
   ]
  },
  {
   "cell_type": "code",
   "execution_count": null,
   "metadata": {},
   "outputs": [],
   "source": []
  }
 ],
 "metadata": {
  "kernelspec": {
   "display_name": "Python 3",
   "language": "python",
   "name": "python3"
  },
  "language_info": {
   "codemirror_mode": {
    "name": "ipython",
    "version": 3
   },
   "file_extension": ".py",
   "mimetype": "text/x-python",
   "name": "python",
   "nbconvert_exporter": "python",
   "pygments_lexer": "ipython3",
   "version": "3.7.6"
  }
 },
 "nbformat": 4,
 "nbformat_minor": 4
}
